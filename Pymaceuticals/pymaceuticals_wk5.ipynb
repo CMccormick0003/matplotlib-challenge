{
 "cells": [
  {
   "cell_type": "markdown",
   "metadata": {},
   "source": [
    "# Pymaceuticals Inc.\n",
    "---\n",
    "\n",
    "### Analysis\n",
    "\n",
    "- Add your analysis here. \n",
    " "
   ]
  },
  {
   "cell_type": "code",
   "execution_count": 1,
   "metadata": {},
   "outputs": [
    {
     "data": {
      "text/html": [
       "<div>\n",
       "<style scoped>\n",
       "    .dataframe tbody tr th:only-of-type {\n",
       "        vertical-align: middle;\n",
       "    }\n",
       "\n",
       "    .dataframe tbody tr th {\n",
       "        vertical-align: top;\n",
       "    }\n",
       "\n",
       "    .dataframe thead th {\n",
       "        text-align: right;\n",
       "    }\n",
       "</style>\n",
       "<table border=\"1\" class=\"dataframe\">\n",
       "  <thead>\n",
       "    <tr style=\"text-align: right;\">\n",
       "      <th></th>\n",
       "      <th>Mouse ID</th>\n",
       "      <th>Timepoint</th>\n",
       "      <th>Tumor Volume (mm3)</th>\n",
       "      <th>Metastatic Sites</th>\n",
       "      <th>Drug Regimen</th>\n",
       "      <th>Sex</th>\n",
       "      <th>Age_months</th>\n",
       "      <th>Weight (g)</th>\n",
       "    </tr>\n",
       "  </thead>\n",
       "  <tbody>\n",
       "    <tr>\n",
       "      <th>0</th>\n",
       "      <td>b128</td>\n",
       "      <td>0</td>\n",
       "      <td>45.000000</td>\n",
       "      <td>0</td>\n",
       "      <td>Capomulin</td>\n",
       "      <td>Female</td>\n",
       "      <td>9</td>\n",
       "      <td>22</td>\n",
       "    </tr>\n",
       "    <tr>\n",
       "      <th>1</th>\n",
       "      <td>f932</td>\n",
       "      <td>0</td>\n",
       "      <td>45.000000</td>\n",
       "      <td>0</td>\n",
       "      <td>Ketapril</td>\n",
       "      <td>Male</td>\n",
       "      <td>15</td>\n",
       "      <td>29</td>\n",
       "    </tr>\n",
       "    <tr>\n",
       "      <th>2</th>\n",
       "      <td>g107</td>\n",
       "      <td>0</td>\n",
       "      <td>45.000000</td>\n",
       "      <td>0</td>\n",
       "      <td>Ketapril</td>\n",
       "      <td>Female</td>\n",
       "      <td>2</td>\n",
       "      <td>29</td>\n",
       "    </tr>\n",
       "    <tr>\n",
       "      <th>3</th>\n",
       "      <td>a457</td>\n",
       "      <td>0</td>\n",
       "      <td>45.000000</td>\n",
       "      <td>0</td>\n",
       "      <td>Ketapril</td>\n",
       "      <td>Female</td>\n",
       "      <td>11</td>\n",
       "      <td>30</td>\n",
       "    </tr>\n",
       "    <tr>\n",
       "      <th>4</th>\n",
       "      <td>c819</td>\n",
       "      <td>0</td>\n",
       "      <td>45.000000</td>\n",
       "      <td>0</td>\n",
       "      <td>Ketapril</td>\n",
       "      <td>Male</td>\n",
       "      <td>21</td>\n",
       "      <td>25</td>\n",
       "    </tr>\n",
       "    <tr>\n",
       "      <th>...</th>\n",
       "      <td>...</td>\n",
       "      <td>...</td>\n",
       "      <td>...</td>\n",
       "      <td>...</td>\n",
       "      <td>...</td>\n",
       "      <td>...</td>\n",
       "      <td>...</td>\n",
       "      <td>...</td>\n",
       "    </tr>\n",
       "    <tr>\n",
       "      <th>1888</th>\n",
       "      <td>r944</td>\n",
       "      <td>45</td>\n",
       "      <td>41.581521</td>\n",
       "      <td>2</td>\n",
       "      <td>Capomulin</td>\n",
       "      <td>Male</td>\n",
       "      <td>12</td>\n",
       "      <td>25</td>\n",
       "    </tr>\n",
       "    <tr>\n",
       "      <th>1889</th>\n",
       "      <td>u364</td>\n",
       "      <td>45</td>\n",
       "      <td>31.023923</td>\n",
       "      <td>3</td>\n",
       "      <td>Capomulin</td>\n",
       "      <td>Male</td>\n",
       "      <td>18</td>\n",
       "      <td>17</td>\n",
       "    </tr>\n",
       "    <tr>\n",
       "      <th>1890</th>\n",
       "      <td>p438</td>\n",
       "      <td>45</td>\n",
       "      <td>61.433892</td>\n",
       "      <td>1</td>\n",
       "      <td>Ceftamin</td>\n",
       "      <td>Female</td>\n",
       "      <td>11</td>\n",
       "      <td>26</td>\n",
       "    </tr>\n",
       "    <tr>\n",
       "      <th>1891</th>\n",
       "      <td>x773</td>\n",
       "      <td>45</td>\n",
       "      <td>58.634971</td>\n",
       "      <td>4</td>\n",
       "      <td>Placebo</td>\n",
       "      <td>Female</td>\n",
       "      <td>21</td>\n",
       "      <td>30</td>\n",
       "    </tr>\n",
       "    <tr>\n",
       "      <th>1892</th>\n",
       "      <td>b879</td>\n",
       "      <td>45</td>\n",
       "      <td>72.555239</td>\n",
       "      <td>2</td>\n",
       "      <td>Stelasyn</td>\n",
       "      <td>Female</td>\n",
       "      <td>4</td>\n",
       "      <td>26</td>\n",
       "    </tr>\n",
       "  </tbody>\n",
       "</table>\n",
       "<p>1893 rows × 8 columns</p>\n",
       "</div>"
      ],
      "text/plain": [
       "     Mouse ID  Timepoint  Tumor Volume (mm3)  Metastatic Sites Drug Regimen  \\\n",
       "0        b128          0           45.000000                 0    Capomulin   \n",
       "1        f932          0           45.000000                 0     Ketapril   \n",
       "2        g107          0           45.000000                 0     Ketapril   \n",
       "3        a457          0           45.000000                 0     Ketapril   \n",
       "4        c819          0           45.000000                 0     Ketapril   \n",
       "...       ...        ...                 ...               ...          ...   \n",
       "1888     r944         45           41.581521                 2    Capomulin   \n",
       "1889     u364         45           31.023923                 3    Capomulin   \n",
       "1890     p438         45           61.433892                 1     Ceftamin   \n",
       "1891     x773         45           58.634971                 4      Placebo   \n",
       "1892     b879         45           72.555239                 2     Stelasyn   \n",
       "\n",
       "         Sex  Age_months  Weight (g)  \n",
       "0     Female           9          22  \n",
       "1       Male          15          29  \n",
       "2     Female           2          29  \n",
       "3     Female          11          30  \n",
       "4       Male          21          25  \n",
       "...      ...         ...         ...  \n",
       "1888    Male          12          25  \n",
       "1889    Male          18          17  \n",
       "1890  Female          11          26  \n",
       "1891  Female          21          30  \n",
       "1892  Female           4          26  \n",
       "\n",
       "[1893 rows x 8 columns]"
      ]
     },
     "execution_count": 1,
     "metadata": {},
     "output_type": "execute_result"
    }
   ],
   "source": [
    "# Dependencies and Setup\n",
    "import matplotlib.pyplot as plt\n",
    "import pandas as pd\n",
    "import scipy.stats as st\n",
    "import numpy as np\n",
    "\n",
    "# Create a text file for the summary analysis and conclusions - Is this needed?\n",
    "#file_to_output = os.path.join(\".\", \"Analysis\",\"Pymaceuticals_analysis.txt\")\n",
    "\n",
    "# Study data files \n",
    "mouse_metadata_path = \"./data/Mouse_metadata.csv\"\n",
    "study_results_path = \"./data/Study_results.csv\"\n",
    "\n",
    "# Read the mouse data and the study results\n",
    "mouse_metadata = pd.read_csv(mouse_metadata_path)\n",
    "study_results = pd.read_csv(study_results_path)\n",
    "\n",
    "# Combine the data into a single dataset\n",
    "# Create the dataframe called mouse_data_complete.  This dataframe has all data from both original csv metadata files\n",
    "#Output shows the top 5 rows and last 5 rows of the datas\n",
    "mousestudy_data_complete_df = pd.merge(study_results, mouse_metadata, how=\"left\", on=[\"Mouse ID\", \"Mouse ID\"])\n",
    "\n",
    "# Display the data table for preview\n",
    "mousestudy_data_complete_df\n",
    "\n",
    "# print(mousestudy_data_complete_df.columns) - use this to check the spelling and names of all the columns in the complete df"
   ]
  },
  {
   "cell_type": "code",
   "execution_count": 2,
   "metadata": {},
   "outputs": [
    {
     "data": {
      "text/plain": [
       "249"
      ]
     },
     "execution_count": 2,
     "metadata": {},
     "output_type": "execute_result"
    }
   ],
   "source": [
    "# Checking the number of mice.\n",
    "len(mousestudy_data_complete_df[\"Mouse ID\"].unique())"
   ]
  },
  {
   "cell_type": "code",
   "execution_count": 3,
   "metadata": {},
   "outputs": [
    {
     "data": {
      "text/html": [
       "<div>\n",
       "<style scoped>\n",
       "    .dataframe tbody tr th:only-of-type {\n",
       "        vertical-align: middle;\n",
       "    }\n",
       "\n",
       "    .dataframe tbody tr th {\n",
       "        vertical-align: top;\n",
       "    }\n",
       "\n",
       "    .dataframe thead th {\n",
       "        text-align: right;\n",
       "    }\n",
       "</style>\n",
       "<table border=\"1\" class=\"dataframe\">\n",
       "  <thead>\n",
       "    <tr style=\"text-align: right;\">\n",
       "      <th></th>\n",
       "      <th>Mouse ID</th>\n",
       "      <th>Timepoint</th>\n",
       "      <th>Tumor Volume (mm3)</th>\n",
       "      <th>Metastatic Sites</th>\n",
       "      <th>Drug Regimen</th>\n",
       "      <th>Sex</th>\n",
       "      <th>Age_months</th>\n",
       "      <th>Weight (g)</th>\n",
       "    </tr>\n",
       "  </thead>\n",
       "  <tbody>\n",
       "    <tr>\n",
       "      <th>137</th>\n",
       "      <td>g989</td>\n",
       "      <td>0</td>\n",
       "      <td>45.000000</td>\n",
       "      <td>0</td>\n",
       "      <td>Propriva</td>\n",
       "      <td>Female</td>\n",
       "      <td>21</td>\n",
       "      <td>26</td>\n",
       "    </tr>\n",
       "    <tr>\n",
       "      <th>360</th>\n",
       "      <td>g989</td>\n",
       "      <td>5</td>\n",
       "      <td>47.570392</td>\n",
       "      <td>0</td>\n",
       "      <td>Propriva</td>\n",
       "      <td>Female</td>\n",
       "      <td>21</td>\n",
       "      <td>26</td>\n",
       "    </tr>\n",
       "    <tr>\n",
       "      <th>681</th>\n",
       "      <td>g989</td>\n",
       "      <td>10</td>\n",
       "      <td>49.880528</td>\n",
       "      <td>0</td>\n",
       "      <td>Propriva</td>\n",
       "      <td>Female</td>\n",
       "      <td>21</td>\n",
       "      <td>26</td>\n",
       "    </tr>\n",
       "    <tr>\n",
       "      <th>869</th>\n",
       "      <td>g989</td>\n",
       "      <td>15</td>\n",
       "      <td>53.442020</td>\n",
       "      <td>0</td>\n",
       "      <td>Propriva</td>\n",
       "      <td>Female</td>\n",
       "      <td>21</td>\n",
       "      <td>26</td>\n",
       "    </tr>\n",
       "    <tr>\n",
       "      <th>1111</th>\n",
       "      <td>g989</td>\n",
       "      <td>20</td>\n",
       "      <td>54.657650</td>\n",
       "      <td>1</td>\n",
       "      <td>Propriva</td>\n",
       "      <td>Female</td>\n",
       "      <td>21</td>\n",
       "      <td>26</td>\n",
       "    </tr>\n",
       "  </tbody>\n",
       "</table>\n",
       "</div>"
      ],
      "text/plain": [
       "     Mouse ID  Timepoint  Tumor Volume (mm3)  Metastatic Sites Drug Regimen  \\\n",
       "137      g989          0           45.000000                 0     Propriva   \n",
       "360      g989          5           47.570392                 0     Propriva   \n",
       "681      g989         10           49.880528                 0     Propriva   \n",
       "869      g989         15           53.442020                 0     Propriva   \n",
       "1111     g989         20           54.657650                 1     Propriva   \n",
       "\n",
       "         Sex  Age_months  Weight (g)  \n",
       "137   Female          21          26  \n",
       "360   Female          21          26  \n",
       "681   Female          21          26  \n",
       "869   Female          21          26  \n",
       "1111  Female          21          26  "
      ]
     },
     "execution_count": 3,
     "metadata": {},
     "output_type": "execute_result"
    }
   ],
   "source": [
    "# Getting the duplicate mice by ID number that shows up for Mouse ID and Timepoint. \n",
    "mousestudy_data_complete_df.loc[mousestudy_data_complete_df.duplicated(subset=[\"Mouse ID\", \"Timepoint\"])]\n",
    "\n",
    "# This output shows that mouse ID g989 had duplicated data, that is multiple rows of data reported for all the columns for only the timepoints 0, 5, 10, 15 and 20\n"
   ]
  },
  {
   "cell_type": "code",
   "execution_count": 4,
   "metadata": {},
   "outputs": [
    {
     "name": "stdout",
     "output_type": "stream",
     "text": [
      "['g989'] <class 'str'>\n"
     ]
    }
   ],
   "source": [
    "# Question to reviewer -- The homework original jupyter notebook showed this response as array([]g989'], dtype=object.  My code returns the dtype as string.  Is this the same thing?\n",
    "\n",
    "# Check for duplicate timepoints for each ID\n",
    "duplicates = mousestudy_data_complete_df.duplicated(subset=['Mouse ID', 'Timepoint'], keep=False)\n",
    "\n",
    "# Filter the dataframe to only include the duplicated timepoints\n",
    "duplicate_data = mousestudy_data_complete_df[duplicates]\n",
    "\n",
    "# Get the unique IDs with duplicates\n",
    "duplicate_ids = duplicate_data['Mouse ID'].unique()\n",
    "\n",
    "# Return the list of duplicate IDs and their data type\n",
    "print(duplicate_ids, type(duplicate_ids[0]))"
   ]
  },
  {
   "cell_type": "code",
   "execution_count": 5,
   "metadata": {},
   "outputs": [
    {
     "name": "stdout",
     "output_type": "stream",
     "text": [
      "     Mouse ID  Timepoint  Tumor Volume (mm3)  Metastatic Sites Drug Regimen  \\\n",
      "107      g989          0           45.000000                 0     Propriva   \n",
      "137      g989          0           45.000000                 0     Propriva   \n",
      "329      g989          5           48.786801                 0     Propriva   \n",
      "360      g989          5           47.570392                 0     Propriva   \n",
      "620      g989         10           51.745156                 0     Propriva   \n",
      "681      g989         10           49.880528                 0     Propriva   \n",
      "815      g989         15           51.325852                 1     Propriva   \n",
      "869      g989         15           53.442020                 0     Propriva   \n",
      "950      g989         20           55.326122                 1     Propriva   \n",
      "1111     g989         20           54.657650                 1     Propriva   \n",
      "1195     g989         25           56.045564                 1     Propriva   \n",
      "1380     g989         30           59.082294                 1     Propriva   \n",
      "1592     g989         35           62.570880                 2     Propriva   \n",
      "\n",
      "         Sex  Age_months  Weight (g)  \n",
      "107   Female          21          26  \n",
      "137   Female          21          26  \n",
      "329   Female          21          26  \n",
      "360   Female          21          26  \n",
      "620   Female          21          26  \n",
      "681   Female          21          26  \n",
      "815   Female          21          26  \n",
      "869   Female          21          26  \n",
      "950   Female          21          26  \n",
      "1111  Female          21          26  \n",
      "1195  Female          21          26  \n",
      "1380  Female          21          26  \n",
      "1592  Female          21          26  \n"
     ]
    }
   ],
   "source": [
    "# Optional: Get all the data for the duplicate mouse ID. \n",
    "\n",
    "# Define the Mouse ID for which you want to print the all the rows of data\n",
    "target_id = 'g989'\n",
    "\n",
    "# Filter the dataframe to only include the rows with the target Mouse ID\n",
    "target_rows = mousestudy_data_complete_df[mousestudy_data_complete_df['Mouse ID'] == 'g989']\n",
    "\n",
    "# Print the rows with the target ID\n",
    "print(target_rows)\n",
    "\n",
    "# THis prints all the duplicate data and the non-duplicated data for all timepoints for the Mouse ID g989"
   ]
  },
  {
   "cell_type": "code",
   "execution_count": 6,
   "metadata": {},
   "outputs": [
    {
     "name": "stdout",
     "output_type": "stream",
     "text": [
      "     Mouse ID  Timepoint  Tumor Volume (mm3)  Metastatic Sites Drug Regimen  \\\n",
      "0        b128          0           45.000000                 0    Capomulin   \n",
      "1        f932          0           45.000000                 0     Ketapril   \n",
      "2        g107          0           45.000000                 0     Ketapril   \n",
      "3        a457          0           45.000000                 0     Ketapril   \n",
      "4        c819          0           45.000000                 0     Ketapril   \n",
      "...       ...        ...                 ...               ...          ...   \n",
      "1888     r944         45           41.581521                 2    Capomulin   \n",
      "1889     u364         45           31.023923                 3    Capomulin   \n",
      "1890     p438         45           61.433892                 1     Ceftamin   \n",
      "1891     x773         45           58.634971                 4      Placebo   \n",
      "1892     b879         45           72.555239                 2     Stelasyn   \n",
      "\n",
      "         Sex  Age_months  Weight (g)  \n",
      "0     Female           9          22  \n",
      "1       Male          15          29  \n",
      "2     Female           2          29  \n",
      "3     Female          11          30  \n",
      "4       Male          21          25  \n",
      "...      ...         ...         ...  \n",
      "1888    Male          12          25  \n",
      "1889    Male          18          17  \n",
      "1890  Female          11          26  \n",
      "1891  Female          21          30  \n",
      "1892  Female           4          26  \n",
      "\n",
      "[1880 rows x 8 columns]\n"
     ]
    }
   ],
   "source": [
    "# Create a clean DataFrame by dropping the duplicate mouse by its ID.\n",
    "\n",
    "clean_data = mousestudy_data_complete_df[mousestudy_data_complete_df['Mouse ID'] != 'g989']\n",
    "print(clean_data)\n",
    "\n",
    "# 1880 is the expected numebr of rows.  That is the full 1893 rows minus the 13 rows (duplicated and not duplicated timepoints) for mouse g989."
   ]
  },
  {
   "cell_type": "code",
   "execution_count": 7,
   "metadata": {},
   "outputs": [
    {
     "data": {
      "text/plain": [
       "248"
      ]
     },
     "execution_count": 7,
     "metadata": {},
     "output_type": "execute_result"
    }
   ],
   "source": [
    "# Checking the number of mice in the clean DataFrame.\n",
    "len(clean_data[\"Mouse ID\"].unique())\n",
    "\n",
    "# This is the full number of subjects (249) minus the 1 excluded mouse."
   ]
  },
  {
   "cell_type": "markdown",
   "metadata": {},
   "source": [
    "## Summary Statistics"
   ]
  },
  {
   "cell_type": "code",
   "execution_count": 8,
   "metadata": {},
   "outputs": [
    {
     "name": "stdout",
     "output_type": "stream",
     "text": [
      "                   Mean     Median   Variance  Standard Deviation  \\\n",
      "Drug Regimen                                                        \n",
      "Capomulin     40.675741  41.557809  24.947764            4.994774   \n",
      "Ceftamin      52.591172  51.776157  39.290177            6.268188   \n",
      "Infubinol     52.884795  51.820584  43.128684            6.567243   \n",
      "Ketapril      55.235638  53.698743  68.553577            8.279709   \n",
      "Naftisol      54.331565  52.509285  66.173479            8.134708   \n",
      "Placebo       54.033581  52.288934  61.168083            7.821003   \n",
      "Propriva      52.320930  50.446266  43.852013            6.622085   \n",
      "Ramicane      40.216745  40.673236  23.486704            4.846308   \n",
      "Stelasyn      54.233149  52.431737  59.450562            7.710419   \n",
      "Zoniferol     53.236507  51.818479  48.533355            6.966589   \n",
      "\n",
      "              Standard Error of the Mean  \n",
      "Drug Regimen                              \n",
      "Capomulin                       0.329346  \n",
      "Ceftamin                        0.469821  \n",
      "Infubinol                       0.492236  \n",
      "Ketapril                        0.603860  \n",
      "Naftisol                        0.596466  \n",
      "Placebo                         0.581331  \n",
      "Propriva                        0.544332  \n",
      "Ramicane                        0.320955  \n",
      "Stelasyn                        0.573111  \n",
      "Zoniferol                       0.516398  \n"
     ]
    }
   ],
   "source": [
    "# Generate a summary statistics table of mean, median, variance, standard deviation, and SEM of the tumor volume for each regimen\n",
    "\n",
    "# Use groupby and summary statistical methods to calculate the following properties of each drug regimen: \n",
    "# mean, median, variance, standard deviation, and SEM of the tumor volume. \n",
    "# Assemble the resulting series into a single summary DataFrame.\n",
    "\n",
    "# Group the \"clean_data\" dataframe by drug Regimen\n",
    "grouped = clean_data.groupby('Drug Regimen')\n",
    "\n",
    "# Calculate summary statistics for each drug regimen\n",
    "summary_tumorvolume = grouped['Tumor Volume (mm3)'].agg([np.mean, np.median, np.var, np.std, pd.Series.sem])\n",
    "\n",
    "# Rename the columns\n",
    "summary_tumorvolume.rename(columns={'mean': 'Mean',\n",
    "                        'median': 'Median',\n",
    "                        'var': 'Variance',\n",
    "                        'std': 'Standard Deviation',\n",
    "                        'sem': 'Standard Error of the Mean'}, inplace=True)\n",
    "\n",
    "print(summary_tumorvolume)\n",
    "\n"
   ]
  },
  {
   "cell_type": "code",
   "execution_count": 9,
   "metadata": {},
   "outputs": [
    {
     "name": "stdout",
     "output_type": "stream",
     "text": [
      "Mean: 50.43529323225536 Median: 48.933453655 Variance: 79.46290714557321 Standard Deviation: 8.91419694339166 Standard Error of the Mean: 0.20559062186986257\n"
     ]
    }
   ],
   "source": [
    "# Generate a summary statistics table of mean, median, variance, standard deviation, \n",
    "# and SEM of the tumor volume for each regimen\n",
    "\n",
    "# Using the aggregation method, produce the same summary statistics in a single line.\n",
    "\n",
    "# Group the \"clean_data\" dataframe by drug Regimen\n",
    "grouped = clean_data.groupby('Drug Regimen')\n",
    "\n",
    "# Calculate mean, median, and variance for the 'Volume' field\n",
    "mean = clean_data['Tumor Volume (mm3)'].mean()\n",
    "median = clean_data['Tumor Volume (mm3)'].median()\n",
    "variance = clean_data['Tumor Volume (mm3)'].var()\n",
    "stddev = clean_data['Tumor Volume (mm3)'].std()\n",
    "sem = clean_data['Tumor Volume (mm3)'].sem()\n",
    "\n",
    "print(\"Mean:\", mean, \"Median:\", median, \"Variance:\", variance, \"Standard Deviation:\", stddev, \"Standard Error of the Mean:\", sem)"
   ]
  },
  {
   "cell_type": "markdown",
   "metadata": {},
   "source": [
    "## Bar and Pie Charts"
   ]
  },
  {
   "cell_type": "code",
   "execution_count": 10,
   "metadata": {},
   "outputs": [
    {
     "data": {
      "image/png": "[encoded data removed]",
      "text/plain": [
       "<Figure size 640x480 with 1 Axes>"
      ]
     },
     "metadata": {},
     "output_type": "display_data"
    }
   ],
   "source": [
    "# Generate a bar plot showing the total number of timepoints for all mice tested for each drug regimen using Pandas.\n",
    "\n",
    "# Group the dataframe by 'Drug Regimen' and calculate the total number of timepoints for each Regimen\n",
    "grouped = clean_data.groupby('Drug Regimen')\n",
    "group_count = grouped['Mouse ID'].count()\n",
    "\n",
    "# Plot the bar plot\n",
    "group_count.plot(kind='bar')\n",
    "\n",
    "# Add x and y labels\n",
    "plt.xlabel(\"Drug Regimen\")\n",
    "plt.ylabel(\"Total Number of Timepoints\")\n",
    "\n",
    "# rotate the x-axis labels by 45 degrees to make the graph easier to read\n",
    "plt.xticks(rotation=45)\n",
    "\n",
    "\n",
    "# Show the plot\n",
    "plt.show()"
   ]
  },
  {
   "cell_type": "code",
   "execution_count": 11,
   "metadata": {},
   "outputs": [
    {
     "data": {
      "image/png": "[encoded data removed]",
      "text/plain": [
       "<Figure size 1200x600 with 1 Axes>"
      ]
     },
     "metadata": {},
     "output_type": "display_data"
    }
   ],
   "source": [
    "# Generate a bar plot showing the total number of timepoints for all mice tested for each drug regimen using pyplot.\n",
    "\n",
    "grouped = clean_data.groupby(['Drug Regimen'])\n",
    "\n",
    "# Count the number of timepoints for each drug group\n",
    "counts = grouped['Timepoint'].count()\n",
    "\n",
    "# Plot the counts as a bar plot\n",
    "counts.plot(kind='bar', figsize=(12,6))\n",
    "\n",
    "# Add a title and labels to the plot\n",
    "plt.title(\"Number of Timepoints for each Drug Regimen\")\n",
    "plt.xlabel(\"Drug Regimen\")\n",
    "plt.ylabel(\"Number of Timepoints\")\n",
    "\n",
    "# Rotate the x-axis labels by 45 degrees\n",
    "plt.xticks(rotation=45)\n",
    "\n",
    "# Show the plot\n",
    "plt.show()"
   ]
  },
  {
   "cell_type": "code",
   "execution_count": 12,
   "metadata": {},
   "outputs": [
    {
     "data": {
      "image/png": "[encoded data removed]",
      "text/plain": [
       "<Figure size 600x600 with 1 Axes>"
      ]
     },
     "metadata": {},
     "output_type": "display_data"
    }
   ],
   "source": [
    "# Generate a pie plot showing the distribution of female versus male mice using Pandas\n",
    "\n",
    "# Group the data by the 'Sex' field\n",
    "grouped = clean_data.groupby(['Sex'])\n",
    "\n",
    "# Count the number of IDs for each sex group\n",
    "counts = grouped['Mouse ID'].nunique()\n",
    "\n",
    "# Plot the counts as a pie plot\n",
    "counts.plot(kind='pie', figsize=(6,6), autopct='%1.1f%%')\n",
    "\n",
    "# Add a title to the plot\n",
    "plt.title(\"Distribution of Mice by Sex\")\n",
    "\n",
    "# Show the plot\n",
    "plt.show()"
   ]
  },
  {
   "cell_type": "code",
   "execution_count": 13,
   "metadata": {},
   "outputs": [
    {
     "data": {
      "image/png": "[encoded data removed]",
      "text/plain": [
       "<Figure size 640x480 with 1 Axes>"
      ]
     },
     "metadata": {},
     "output_type": "display_data"
    }
   ],
   "source": [
    "# Generate a pie plot showing the distribution of female versus male mice using pyplot\n",
    "\n",
    "# Group the data by the 'Sex' field\n",
    "grouped = clean_data.groupby(['Sex'])\n",
    "\n",
    "# Count the number of IDs for each sex group\n",
    "counts = grouped['Mouse ID'].nunique()\n",
    "\n",
    "# Plot the counts as a pie plot\n",
    "plt.pie(counts, labels=counts.index, autopct='%1.1f%%', startangle=90)\n",
    "\n",
    "# Add a title to the plot\n",
    "plt.title(\"Distribution Mice by Sex\")\n",
    "\n",
    "# Set the aspect ratio of the plot to equal\n",
    "plt.axis('equal')\n",
    "\n",
    "# Show the plot\n",
    "plt.show()"
   ]
  },
  {
   "cell_type": "markdown",
   "metadata": {},
   "source": [
    "## Quartiles, Outliers and Boxplots"
   ]
  },
  {
   "cell_type": "code",
   "execution_count": 20,
   "metadata": {},
   "outputs": [
    {
     "name": "stdout",
     "output_type": "stream",
     "text": [
      "    Mouse ID  Timepoint  Tumor Volume (mm3) Drug Regimen\n",
      "7       u153          0           45.000000     Ceftamin\n",
      "8       b447          0           45.000000     Ceftamin\n",
      "10      x226          0           45.000000     Ceftamin\n",
      "11      t573          0           45.000000     Ceftamin\n",
      "20      c326          5           36.321346    Infubinol\n",
      "..       ...        ...                 ...          ...\n",
      "235     a644         45           32.978522     Ramicane\n",
      "241     i177         45           33.562402     Ramicane\n",
      "244     r944         45           41.581521    Capomulin\n",
      "245     u364         45           31.023923    Capomulin\n",
      "246     p438         45           61.433892     Ceftamin\n",
      "\n",
      "[100 rows x 4 columns]\n"
     ]
    }
   ],
   "source": [
    "# Calculate the final tumor volume of each mouse across four of the treatment regimens:  \n",
    "# Capomulin, Ramicane, Infubinol, and Ceftamin\n",
    "\n",
    "# Start by getting the last (greatest) timepoint for each mouse\n",
    "# The instruction below said to use the \"original\" dataframe so that is 249 mice.  THis is not from the reduced clean_data df.\n",
    "last_timepoint_group = mousestudy_data_complete_df.groupby('Mouse ID')['Timepoint'].max()\n",
    "\n",
    "# Merge this group df with the original DataFrame to get the tumor volume at the last timepoint\n",
    "# The reset_index method is used to reset the index of grouped and turn it into a column so that it can be merged with df. \n",
    "# The how argument is set to inner to only keep the rows in the merged dataframe where there is a match in both df and grouped.\n",
    "merged_complete = mousestudy_data_complete_df.merge(last_timepoint_group.reset_index(), on=['Mouse ID', 'Timepoint'], how='inner')\n",
    "\n",
    "# Filter the dataframe so it only contains the rows for which the mask is True. This will be just the four drug regimens.\n",
    "mask = merged_complete[\"Drug Regimen\"].isin([\"Capomulin\", \"Ramicane\", \"Infubinol\", \"Ceftamin\"])\n",
    "filtered_drug_df = merged_complete[mask]\n",
    "\n",
    "print(filtered_drug_df[['Mouse ID', 'Timepoint', 'Tumor Volume (mm3)', 'Drug Regimen']])\n",
    "\n",
    "# this should print fewer than the total of 249 mice because not all the mice were on the 4 drug regimens in the question."
   ]
  },
  {
   "cell_type": "code",
   "execution_count": 15,
   "metadata": {},
   "outputs": [],
   "source": [
    "# define the final_tumor_vol column from teh filtered_drug_dataframe\n",
    "# final_tumor_vol = filtered_drug_df['Tumor Volume (mm3)']\n",
    "# final_tumor_vol"
   ]
  },
  {
   "cell_type": "code",
   "execution_count": 34,
   "metadata": {},
   "outputs": [
    {
     "ename": "KeyError",
     "evalue": "'drug_group'",
     "output_type": "error",
     "traceback": [
      "\u001b[1;31m---------------------------------------------------------------------------\u001b[0m",
      "\u001b[1;31mKeyError\u001b[0m                                  Traceback (most recent call last)",
      "\u001b[1;32m~\\anaconda3\\lib\\site-packages\\pandas\\core\\indexes\\base.py\u001b[0m in \u001b[0;36mget_loc\u001b[1;34m(self, key, method, tolerance)\u001b[0m\n\u001b[0;32m   3628\u001b[0m             \u001b[1;32mtry\u001b[0m\u001b[1;33m:\u001b[0m\u001b[1;33m\u001b[0m\u001b[1;33m\u001b[0m\u001b[0m\n\u001b[1;32m-> 3629\u001b[1;33m                 \u001b[1;32mreturn\u001b[0m \u001b[0mself\u001b[0m\u001b[1;33m.\u001b[0m\u001b[0m_engine\u001b[0m\u001b[1;33m.\u001b[0m\u001b[0mget_loc\u001b[0m\u001b[1;33m(\u001b[0m\u001b[0mcasted_key\u001b[0m\u001b[1;33m)\u001b[0m\u001b[1;33m\u001b[0m\u001b[1;33m\u001b[0m\u001b[0m\n\u001b[0m\u001b[0;32m   3630\u001b[0m             \u001b[1;32mexcept\u001b[0m \u001b[0mKeyError\u001b[0m \u001b[1;32mas\u001b[0m \u001b[0merr\u001b[0m\u001b[1;33m:\u001b[0m\u001b[1;33m\u001b[0m\u001b[1;33m\u001b[0m\u001b[0m\n",
      "\u001b[1;32m~\\anaconda3\\lib\\site-packages\\pandas\\_libs\\index.pyx\u001b[0m in \u001b[0;36mpandas._libs.index.IndexEngine.get_loc\u001b[1;34m()\u001b[0m\n",
      "\u001b[1;32m~\\anaconda3\\lib\\site-packages\\pandas\\_libs\\index.pyx\u001b[0m in \u001b[0;36mpandas._libs.index.IndexEngine.get_loc\u001b[1;34m()\u001b[0m\n",
      "\u001b[1;32mpandas\\_libs\\hashtable_class_helper.pxi\u001b[0m in \u001b[0;36mpandas._libs.hashtable.PyObjectHashTable.get_item\u001b[1;34m()\u001b[0m\n",
      "\u001b[1;32mpandas\\_libs\\hashtable_class_helper.pxi\u001b[0m in \u001b[0;36mpandas._libs.hashtable.PyObjectHashTable.get_item\u001b[1;34m()\u001b[0m\n",
      "\u001b[1;31mKeyError\u001b[0m: 'drug_group'",
      "\nThe above exception was the direct cause of the following exception:\n",
      "\u001b[1;31mKeyError\u001b[0m                                  Traceback (most recent call last)",
      "\u001b[1;32m~\\AppData\\Local\\Temp\\ipykernel_82524\\4110207384.py\u001b[0m in \u001b[0;36m<module>\u001b[1;34m\u001b[0m\n\u001b[1;32m----> 1\u001b[1;33m \u001b[0mdrugs\u001b[0m \u001b[1;33m=\u001b[0m \u001b[0mfiltered_drug_df\u001b[0m\u001b[1;33m[\u001b[0m\u001b[0mfiltered_drug_df\u001b[0m\u001b[1;33m[\u001b[0m\u001b[1;34m\"drug_group\"\u001b[0m\u001b[1;33m]\u001b[0m\u001b[1;33m.\u001b[0m\u001b[0misin\u001b[0m\u001b[1;33m(\u001b[0m\u001b[1;33m[\u001b[0m\u001b[1;34m\"Capomulin\"\u001b[0m\u001b[1;33m,\u001b[0m \u001b[1;34m\"Ramicane\"\u001b[0m\u001b[1;33m,\u001b[0m \u001b[1;34m\"Infubinol\"\u001b[0m\u001b[1;33m,\u001b[0m \u001b[1;34m\"Ceftamin\"\u001b[0m\u001b[1;33m]\u001b[0m\u001b[1;33m)\u001b[0m\u001b[1;33m]\u001b[0m\u001b[1;33m\u001b[0m\u001b[1;33m\u001b[0m\u001b[0m\n\u001b[0m\u001b[0;32m      2\u001b[0m \u001b[0mshort_drug_list\u001b[0m \u001b[1;33m=\u001b[0m \u001b[0mfiltered_drug_df\u001b[0m\u001b[1;33m[\u001b[0m\u001b[1;34m\"drug_group\"\u001b[0m\u001b[1;33m]\u001b[0m\u001b[1;33m.\u001b[0m\u001b[0munique\u001b[0m\u001b[1;33m(\u001b[0m\u001b[1;33m)\u001b[0m\u001b[1;33m.\u001b[0m\u001b[0mtolist\u001b[0m\u001b[1;33m(\u001b[0m\u001b[1;33m)\u001b[0m\u001b[1;33m\u001b[0m\u001b[1;33m\u001b[0m\u001b[0m\n",
      "\u001b[1;32m~\\anaconda3\\lib\\site-packages\\pandas\\core\\frame.py\u001b[0m in \u001b[0;36m__getitem__\u001b[1;34m(self, key)\u001b[0m\n\u001b[0;32m   3503\u001b[0m             \u001b[1;32mif\u001b[0m \u001b[0mself\u001b[0m\u001b[1;33m.\u001b[0m\u001b[0mcolumns\u001b[0m\u001b[1;33m.\u001b[0m\u001b[0mnlevels\u001b[0m \u001b[1;33m>\u001b[0m \u001b[1;36m1\u001b[0m\u001b[1;33m:\u001b[0m\u001b[1;33m\u001b[0m\u001b[1;33m\u001b[0m\u001b[0m\n\u001b[0;32m   3504\u001b[0m                 \u001b[1;32mreturn\u001b[0m \u001b[0mself\u001b[0m\u001b[1;33m.\u001b[0m\u001b[0m_getitem_multilevel\u001b[0m\u001b[1;33m(\u001b[0m\u001b[0mkey\u001b[0m\u001b[1;33m)\u001b[0m\u001b[1;33m\u001b[0m\u001b[1;33m\u001b[0m\u001b[0m\n\u001b[1;32m-> 3505\u001b[1;33m             \u001b[0mindexer\u001b[0m \u001b[1;33m=\u001b[0m \u001b[0mself\u001b[0m\u001b[1;33m.\u001b[0m\u001b[0mcolumns\u001b[0m\u001b[1;33m.\u001b[0m\u001b[0mget_loc\u001b[0m\u001b[1;33m(\u001b[0m\u001b[0mkey\u001b[0m\u001b[1;33m)\u001b[0m\u001b[1;33m\u001b[0m\u001b[1;33m\u001b[0m\u001b[0m\n\u001b[0m\u001b[0;32m   3506\u001b[0m             \u001b[1;32mif\u001b[0m \u001b[0mis_integer\u001b[0m\u001b[1;33m(\u001b[0m\u001b[0mindexer\u001b[0m\u001b[1;33m)\u001b[0m\u001b[1;33m:\u001b[0m\u001b[1;33m\u001b[0m\u001b[1;33m\u001b[0m\u001b[0m\n\u001b[0;32m   3507\u001b[0m                 \u001b[0mindexer\u001b[0m \u001b[1;33m=\u001b[0m \u001b[1;33m[\u001b[0m\u001b[0mindexer\u001b[0m\u001b[1;33m]\u001b[0m\u001b[1;33m\u001b[0m\u001b[1;33m\u001b[0m\u001b[0m\n",
      "\u001b[1;32m~\\anaconda3\\lib\\site-packages\\pandas\\core\\indexes\\base.py\u001b[0m in \u001b[0;36mget_loc\u001b[1;34m(self, key, method, tolerance)\u001b[0m\n\u001b[0;32m   3629\u001b[0m                 \u001b[1;32mreturn\u001b[0m \u001b[0mself\u001b[0m\u001b[1;33m.\u001b[0m\u001b[0m_engine\u001b[0m\u001b[1;33m.\u001b[0m\u001b[0mget_loc\u001b[0m\u001b[1;33m(\u001b[0m\u001b[0mcasted_key\u001b[0m\u001b[1;33m)\u001b[0m\u001b[1;33m\u001b[0m\u001b[1;33m\u001b[0m\u001b[0m\n\u001b[0;32m   3630\u001b[0m             \u001b[1;32mexcept\u001b[0m \u001b[0mKeyError\u001b[0m \u001b[1;32mas\u001b[0m \u001b[0merr\u001b[0m\u001b[1;33m:\u001b[0m\u001b[1;33m\u001b[0m\u001b[1;33m\u001b[0m\u001b[0m\n\u001b[1;32m-> 3631\u001b[1;33m                 \u001b[1;32mraise\u001b[0m \u001b[0mKeyError\u001b[0m\u001b[1;33m(\u001b[0m\u001b[0mkey\u001b[0m\u001b[1;33m)\u001b[0m \u001b[1;32mfrom\u001b[0m \u001b[0merr\u001b[0m\u001b[1;33m\u001b[0m\u001b[1;33m\u001b[0m\u001b[0m\n\u001b[0m\u001b[0;32m   3632\u001b[0m             \u001b[1;32mexcept\u001b[0m \u001b[0mTypeError\u001b[0m\u001b[1;33m:\u001b[0m\u001b[1;33m\u001b[0m\u001b[1;33m\u001b[0m\u001b[0m\n\u001b[0;32m   3633\u001b[0m                 \u001b[1;31m# If we have a listlike key, _check_indexing_error will raise\u001b[0m\u001b[1;33m\u001b[0m\u001b[1;33m\u001b[0m\u001b[0m\n",
      "\u001b[1;31mKeyError\u001b[0m: 'drug_group'"
     ]
    }
   ],
   "source": [
    "drugs = filtered_drug_df[filtered_drug_df[\"drug_group\"].isin([\"Capomulin\", \"Ramicane\", \"Infubinol\", \"Ceftamin\"])]\n",
    "short_drug_list = filtered_drug_df[\"drug_group\"].unique().tolist()\n"
   ]
  },
  {
   "cell_type": "code",
   "execution_count": 32,
   "metadata": {},
   "outputs": [
    {
     "name": "stdout",
     "output_type": "stream",
     "text": [
      "[39     39.952347\n",
      "46     46.539206\n",
      "56     30.485985\n",
      "98     38.753265\n",
      "120    38.982878\n",
      "125    34.455298\n",
      "127    41.483008\n",
      "133    37.074024\n",
      "144    32.377357\n",
      "147    40.159220\n",
      "153    31.896238\n",
      "156    33.329098\n",
      "173    38.846876\n",
      "177    40.658124\n",
      "185    38.939633\n",
      "194    36.041047\n",
      "199    28.430964\n",
      "202    28.484033\n",
      "205    23.343598\n",
      "206    37.311846\n",
      "210    40.728578\n",
      "215    38.125164\n",
      "234    47.685963\n",
      "244    41.581521\n",
      "245    31.023923\n",
      "Name: Tumor Volume (mm3), dtype: float64, 21     43.166373\n",
      "44     44.183451\n",
      "79     43.419381\n",
      "85     38.342008\n",
      "99     36.561652\n",
      "119    31.095335\n",
      "129    38.407618\n",
      "132    45.220869\n",
      "136    36.374510\n",
      "151    30.276232\n",
      "155    30.638696\n",
      "157    40.659006\n",
      "164    30.564625\n",
      "170    22.050126\n",
      "178    33.397653\n",
      "184    36.134852\n",
      "189    31.560470\n",
      "192    43.047543\n",
      "200    37.311236\n",
      "213    38.810366\n",
      "223    40.667713\n",
      "226    29.128472\n",
      "230    37.225650\n",
      "235    32.978522\n",
      "241    33.562402\n",
      "Name: Tumor Volume (mm3), dtype: float64, 20     36.321346\n",
      "22     46.250112\n",
      "23     47.010364\n",
      "24     45.699331\n",
      "45     51.542431\n",
      "59     54.048608\n",
      "61     50.005138\n",
      "74     55.650681\n",
      "81     60.969711\n",
      "86     54.656549\n",
      "87     57.031862\n",
      "88     58.268442\n",
      "93     60.165180\n",
      "95     55.629428\n",
      "96     62.117279\n",
      "117    67.289621\n",
      "135    67.685569\n",
      "137    72.226731\n",
      "140    62.754451\n",
      "142    65.525743\n",
      "145    66.196912\n",
      "150    66.083066\n",
      "158    62.435404\n",
      "160    67.973419\n",
      "162    60.918767\n",
      "Name: Tumor Volume (mm3), dtype: float64, 7      45.000000\n",
      "8      45.000000\n",
      "10     45.000000\n",
      "11     45.000000\n",
      "25     47.784682\n",
      "33     46.784535\n",
      "51     48.722078\n",
      "66     52.925348\n",
      "69     56.057749\n",
      "92     55.742829\n",
      "94     57.918381\n",
      "110    64.192341\n",
      "121    59.851956\n",
      "122    64.729837\n",
      "123    68.594745\n",
      "128    61.849023\n",
      "146    67.527482\n",
      "166    67.748662\n",
      "211    64.634949\n",
      "212    62.999356\n",
      "214    68.923185\n",
      "218    61.386660\n",
      "220    64.299830\n",
      "228    59.741901\n",
      "246    61.433892\n",
      "Name: Tumor Volume (mm3), dtype: float64]\n"
     ]
    }
   ],
   "source": [
    "# Put treatments into a list for for loop (and later for plot labels)\n",
    "drugs = [\"Capomulin\", \"Ramicane\", \"Infubinol\", \"Ceftamin\"]\n",
    "new_list = list(drugs)\n",
    "\n",
    "# Create empty list to fill with tumor vol data (for plotting)\n",
    "final_tumor_vol = []\n",
    "filtered_drug_df['Tumor Volume (mm3)']\n",
    "\n",
    "# Calculate the IQR and quantitatively determine if there are any potential outliers. \n",
    "\n",
    "for drug_regimen in drugs:\n",
    "    four_drugs = filtered_drug_df.loc[filtered_drug_df['Drug Regimen']==drug_regimen, 'Tumor Volume (mm3)']\n",
    "    final_tumor_vol.append(four_drugs)\n",
    "    # the last row above runs for each of the four drugs previously idnetified in the list called drugsiqr = np.subtract(*np.percentile(data, [75, 25]))\n",
    "    \n",
    "capomulin_data = filtered_drug_df.groupby('Drug Regimen'].max()\n",
    "\"Capomulin\", \"Ramicane\", \"Infubinol\", \"Ceftamin\"\n",
    "\"Capomulin\", \"Ramicane\", \"Infubinol\", \"Ceftamin\"\n",
    "\"Capomulin\", \"Ramicane\", \"Infubinol\", \"Ceftamin\"\n",
    "\n",
    "print(final_tumor_vol)\n",
    "\n",
    "# appended_series = pd.Series(final_tumor_vol.append(four_drugs))\n",
    "# appended_series_iqr = appended_series.quantile(0.75) - appended_series.quantile(0.25)\n",
    "\n",
    "# print(\"The IQR of the appended list is:\", appended_series_iqr)"
   ]
  },
  {
   "cell_type": "code",
   "execution_count": 29,
   "metadata": {},
   "outputs": [
    {
     "ename": "AttributeError",
     "evalue": "'list' object has no attribute 'quantile'",
     "output_type": "error",
     "traceback": [
      "\u001b[1;31m---------------------------------------------------------------------------\u001b[0m",
      "\u001b[1;31mAttributeError\u001b[0m                            Traceback (most recent call last)",
      "\u001b[1;32m~\\AppData\\Local\\Temp\\ipykernel_82524\\268245405.py\u001b[0m in \u001b[0;36m<module>\u001b[1;34m\u001b[0m\n\u001b[0;32m     14\u001b[0m     \u001b[1;31m# the last row above runs for each of the four drugs previously idnetified in the list called drugsiqr = np.subtract(*np.percentile(data, [75, 25]))\u001b[0m\u001b[1;33m\u001b[0m\u001b[1;33m\u001b[0m\u001b[0m\n\u001b[0;32m     15\u001b[0m \u001b[1;33m\u001b[0m\u001b[0m\n\u001b[1;32m---> 16\u001b[1;33m \u001b[0miqr\u001b[0m \u001b[1;33m=\u001b[0m \u001b[0mfinal_tumor_vol\u001b[0m\u001b[1;33m.\u001b[0m\u001b[0mquantile\u001b[0m\u001b[1;33m(\u001b[0m\u001b[1;36m0.75\u001b[0m\u001b[1;33m)\u001b[0m \u001b[1;33m-\u001b[0m \u001b[0mfinal_tumor_vol\u001b[0m\u001b[1;33m.\u001b[0m\u001b[0mquantile\u001b[0m\u001b[1;33m(\u001b[0m\u001b[1;36m0.25\u001b[0m\u001b[1;33m)\u001b[0m\u001b[1;33m\u001b[0m\u001b[1;33m\u001b[0m\u001b[0m\n\u001b[0m\u001b[0;32m     17\u001b[0m \u001b[0mprint\u001b[0m\u001b[1;33m(\u001b[0m\u001b[1;34m\"IQR\"\u001b[0m\u001b[1;33m,\u001b[0m \u001b[0miqr\u001b[0m\u001b[1;33m)\u001b[0m\u001b[1;33m\u001b[0m\u001b[1;33m\u001b[0m\u001b[0m\n",
      "\u001b[1;31mAttributeError\u001b[0m: 'list' object has no attribute 'quantile'"
     ]
    }
   ],
   "source": [
    "# Put treatments into a list for for loop (and later for plot labels)\n",
    "drugs = [\"Capomulin\", \"Ramicane\", \"Infubinol\", \"Ceftamin\"]\n",
    "new_list = list(drugs)\n",
    "\n",
    "# Create empty list to fill with tumor vol data (for plotting)\n",
    "final_tumor_vol = []\n",
    "filtered_drug_df['Tumor Volume (mm3)']\n",
    "\n",
    "# Calculate the IQR and quantitatively determine if there are any potential outliers. \n",
    "\n",
    "for drug_regimen in drugs:\n",
    "    four_drugs = filtered_drug_df.loc[filtered_drug_df['Drug Regimen']==drug_regimen, 'Tumor Volume (mm3)']\n",
    "    final_tumor_vol.append(four_drugs)\n",
    "    # the last row above runs for each of the four drugs previously idnetified in the list called drugsiqr = np.subtract(*np.percentile(data, [75, 25]))\n",
    "    \n",
    "iqr = final_tumor_vol.quantile(0.75) - final_tumor_vol.quantile(0.25)\n",
    "print(\"IQR\", iqr)"
   ]
  },
  {
   "cell_type": "code",
   "execution_count": 26,
   "metadata": {},
   "outputs": [
    {
     "ename": "AttributeError",
     "evalue": "'list' object has no attribute 'df'",
     "output_type": "error",
     "traceback": [
      "\u001b[1;31m---------------------------------------------------------------------------\u001b[0m",
      "\u001b[1;31mAttributeError\u001b[0m                            Traceback (most recent call last)",
      "\u001b[1;32m~\\AppData\\Local\\Temp\\ipykernel_82524\\3621995530.py\u001b[0m in \u001b[0;36m<module>\u001b[1;34m\u001b[0m\n\u001b[0;32m     15\u001b[0m \u001b[1;33m\u001b[0m\u001b[0m\n\u001b[0;32m     16\u001b[0m \u001b[1;31m#q1, q3 = np.percentile(final_tumor_vol,[25, 75])\u001b[0m\u001b[1;33m\u001b[0m\u001b[1;33m\u001b[0m\u001b[0m\n\u001b[1;32m---> 17\u001b[1;33m \u001b[0mfinal_tumor_vol\u001b[0m\u001b[1;33m.\u001b[0m\u001b[0mdf\u001b[0m\u001b[1;33m.\u001b[0m\u001b[0mquantile\u001b[0m\u001b[1;33m(\u001b[0m\u001b[1;33m[\u001b[0m\u001b[1;36m.25\u001b[0m\u001b[1;33m,\u001b[0m \u001b[1;36m.75\u001b[0m\u001b[1;33m]\u001b[0m\u001b[1;33m,\u001b[0m \u001b[0maxis\u001b[0m \u001b[1;33m=\u001b[0m \u001b[1;36m0\u001b[0m\u001b[1;33m)\u001b[0m\u001b[1;33m\u001b[0m\u001b[1;33m\u001b[0m\u001b[0m\n\u001b[0m\u001b[0;32m     18\u001b[0m \u001b[1;33m\u001b[0m\u001b[0m\n\u001b[0;32m     19\u001b[0m \u001b[1;33m\u001b[0m\u001b[0m\n",
      "\u001b[1;31mAttributeError\u001b[0m: 'list' object has no attribute 'df'"
     ]
    }
   ],
   "source": [
    "# Put treatments into a list for for loop (and later for plot labels)\n",
    "drugs = [\"Capomulin\", \"Ramicane\", \"Infubinol\", \"Ceftamin\"]\n",
    "new_list = list(drugs)\n",
    "\n",
    "# Create empty list to fill with tumor vol data (for plotting)\n",
    "final_tumor_vol = []\n",
    "filtered_drug_df['Tumor Volume (mm3)']\n",
    "\n",
    "# Calculate the IQR and quantitatively determine if there are any potential outliers. \n",
    "\n",
    "for drug_regimen in drugs:\n",
    "    four_drugs = filtered_drug_df.loc[filtered_drug_df['Drug Regimen']==drug_regimen, 'Tumor Volume (mm3)']\n",
    "    final_tumor_vol.append(four_drugs)\n",
    "    # the last row above runs for each of the four drugs previously idnetified in the list called drugs\n",
    "    \n",
    "#q1, q3 = np.percentile(final_tumor_vol,[25, 75])\n",
    "final_tumor_vol.df.quantile([.25, .75], axis = 0)\n",
    "    \n",
    "    \n",
    "    df = pd.DataFrame({\n",
    "    'set_1': [10, 20, 30, 40, 50, 60, 70, 80, 90, 100],\n",
    "    'set_2': [100, 90, 80, 70, 60, 50, 40, 30, 20, 10],\n",
    "    'set_3': [1, 2, 3, 4, 5, 6, 7, 8, 9, 10],\n",
    "    'set_4': [15, 14, 13, 12, 11, 10, 9, 8, 7, 6]\n",
    "})\n",
    "\n",
    "iqr_set_1 = df['set_1'].quantile(0.75) - df['set_1'].quantile(0.25)\n",
    "iqr_set_2 = df['set_2'].quantile(0.75) - df['set_2'].quantile(0.25)\n",
    "iqr_set_3 = df['set_3'].quantile(0.75) - df['set_3'].quantile(0.25)\n",
    "iqr_set_4 = df['set_4'].quantile(0.75) - df['set_4'].quantile(0.25)\n",
    "\n",
    "print(\"IQR of set 1:\", iqr_set_1)\n",
    "print(\"IQR of set 2:\", iqr_set_2)\n",
    "print(\"IQR of set 3:\", iqr_set_3)\n",
    "print(\"IQR of set 4:\", iqr_set_4)\n",
    "    # Locate the rows which contain mice on each drug and get the tumor volumes\n",
    "    \n",
    "    \n",
    "    # add subset \n",
    "    \n",
    "    \n",
    "    # Determine outliers using upper and lower bounds\n",
    "    \n",
    "    "
   ]
  },
  {
   "cell_type": "code",
   "execution_count": null,
   "metadata": {},
   "outputs": [],
   "source": [
    "Capomulin's potential outliers: Series([], Name: Tumor Volume (mm3), dtype: float64)\n",
    "Ramicane's potential outliers: Series([], Name: Tumor Volume (mm3), dtype: float64)\n",
    "Infubinol's potential outliers: 31    36.321346\n",
    "Name: Tumor Volume (mm3), dtype: float64\n",
    "Ceftamin's potential outliers: Series([], Name: Tumor Volume (mm3), dtype: float64)"
   ]
  },
  {
   "cell_type": "code",
   "execution_count": null,
   "metadata": {},
   "outputs": [],
   "source": [
    "# Generate a box plot that shows the distrubution of the tumor volume for each treatment group.\n",
    "\n",
    "# there should be 4 boxes on this plot, 1 for each drug regimen"
   ]
  },
  {
   "cell_type": "markdown",
   "metadata": {},
   "source": [
    "## Line and Scatter Plots"
   ]
  },
  {
   "cell_type": "code",
   "execution_count": null,
   "metadata": {},
   "outputs": [],
   "source": [
    "# Generate a line plot of tumor volume vs. time point for a mouse treated with Capomulin\n",
    "\n"
   ]
  },
  {
   "cell_type": "code",
   "execution_count": null,
   "metadata": {},
   "outputs": [],
   "source": [
    "# Generate a scatter plot of average tumor volume vs. mouse weight for the Capomulin regimen\n",
    "\n"
   ]
  },
  {
   "cell_type": "markdown",
   "metadata": {},
   "source": [
    "## Correlation and Regression"
   ]
  },
  {
   "cell_type": "code",
   "execution_count": null,
   "metadata": {},
   "outputs": [],
   "source": [
    "# Calculate the correlation coefficient and linear regression model \n",
    "# for mouse weight and average tumor volume for the Capomulin regimen\n",
    "\n"
   ]
  },
  {
   "cell_type": "code",
   "execution_count": null,
   "metadata": {},
   "outputs": [],
   "source": []
  }
 ],
 "metadata": {
  "anaconda-cloud": {},
  "kernelspec": {
   "display_name": "Python 3 (ipykernel)",
   "language": "python",
   "name": "python3"
  },
  "language_info": {
   "codemirror_mode": {
    "name": "ipython",
    "version": 3
   },
   "file_extension": ".py",
   "mimetype": "text/x-python",
   "name": "python",
   "nbconvert_exporter": "python",
   "pygments_lexer": "ipython3",
   "version": "3.9.13"
  }
 },
 "nbformat": 4,
 "nbformat_minor": 4
}
